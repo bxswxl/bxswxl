{
  "nbformat": 4,
  "nbformat_minor": 0,
  "metadata": {
    "colab": {
      "private_outputs": true,
      "provenance": [],
      "authorship_tag": "ABX9TyP3P+wB5M+NQtoyOj/KPdjq",
      "include_colab_link": true
    },
    "kernelspec": {
      "name": "python3",
      "display_name": "Python 3"
    },
    "language_info": {
      "name": "python"
    }
  },
  "cells": [
    {
      "cell_type": "markdown",
      "metadata": {
        "id": "view-in-github",
        "colab_type": "text"
      },
      "source": [
        "<a href=\"https://colab.research.google.com/github/bxswxl/bxswxl/blob/main/mongodb_GUI%20connection.ipynb\" target=\"_parent\"><img src=\"https://colab.research.google.com/assets/colab-badge.svg\" alt=\"Open In Colab\"/></a>"
      ]
    },
    {
      "cell_type": "code",
      "execution_count": null,
      "metadata": {
        "id": "lwmuVf_yUukz"
      },
      "outputs": [],
      "source": [
        "\n",
        "import pymongo\n",
        "from tkinter import *\n",
        "from tkinter import messagebox\n",
        "conn = pymongo.MongoClient('mongodb://localhost:27017')\n",
        "mydb = conn['App1']\n",
        "mycol = mydb['appdata']\n",
        "frame = Tk()\n",
        "frame.geometry(\"500x350\")\n",
        "title = Label(frame,text=\"CRUD FORM\", font=('Arial',20))\n",
        "l1 = Label(frame,text=\"Enter Id\")\n",
        "l2 = Label(frame,text=\"Enter Name\")\n",
        "l3 = Label(frame,text=\"Enter Salary\")\n",
        "l4 = Label(frame,text=\"Enter Gender\")\n",
        "t1 = Entry(width=20)\n",
        "t2 = Entry(width=20)\n",
        "t3 = Entry(width=20)\n",
        "t4 = Entry(width=20)\n",
        "\n",
        "def Insert():\n",
        "    Id = int(t1.get())\n",
        "    Name = t2.get()\n",
        "    Salary = int(t3.get())\n",
        "    Gender = t4.get()\n",
        "    Query = {\"Id\":Id,\"Name\":Name,\"Salary\":Salary,\"Gender\":Gender}\n",
        "    mycol.insert_one(Query)\n",
        "    messagebox.showinfo(\"Information\",\"Data Submitted\")\n",
        "def Update():\n",
        "    Id = int(t1.get())\n",
        "    Name = t2.get()\n",
        "    Salary = int(t3.get())\n",
        "    Gender = t4.get()\n",
        "    Query = {\"Id\":Id}\n",
        "    NewQuery = {\"$set\":{\"Name\":Name,\"Salary\":Salary,\"Gender\":Gender}}\n",
        "    mycol.update_one(Query,NewQuery)\n",
        "    messagebox.showinfo(\"Information\",\"Data Updated\")\n",
        "def Delete():\n",
        "    Id = int(t1.get())\n",
        "    Query = {\"Id\":Id}\n",
        "    mycol.delete_one(Query)\n",
        "    messagebox.showinfo(\"Information\",\"Data Delete\")\n",
        "def Show():\n",
        "    i = 0\n",
        "    Showdata = Toplevel()\n",
        "    Showdata.title(\"Show All Data\")\n",
        "    Showdata.geometry('500x300')\n",
        "    for emp in mycol.find({},{\"_id\":0}):\n",
        "        j = 0\n",
        "        for  key, value in emp.items():\n",
        "            e = Entry(Showdata,fg='blue')\n",
        "            e.grid(row=i,column=j)\n",
        "            e.insert(0,value)\n",
        "            j=j+1\n",
        "        i=i+1\n",
        "    Showdata.mainloop()\n",
        "\n",
        "b1 = Button(frame,text=\"Insert\",command=Insert)\n",
        "b2 = Button(frame,text=\"Update\",command=Update)\n",
        "b3 = Button(frame,text=\"Delete\",command=Delete)\n",
        "b4 = Button(frame,text=\"Show\",command=Show)\n",
        "title.pack()\n",
        "l1.place(x=100,y=50)\n",
        "t1.place(x=250,y=50)\n",
        "l2.place(x=100,y=100)\n",
        "t2.place(x=250,y=100)\n",
        "l3.place(x=100,y=150)\n",
        "t3.place(x=250,y=150)\n",
        "l4.place(x=100,y=200)\n",
        "t4.place(x=250,y=200)\n",
        "b1.place(x=150,y=250)\n",
        "b2.place(x=200,y=250)\n",
        "b3.place(x=250,y=250)\n",
        "b4.place(x=300,y=250)\n",
        "frame.mainloop()"
      ]
    },
    {
      "cell_type": "code",
      "source": [
        "pip install pymongo\n"
      ],
      "metadata": {
        "id": "3do4K6L7VBJn"
      },
      "execution_count": null,
      "outputs": []
    },
    {
      "cell_type": "code",
      "source": [],
      "metadata": {
        "id": "Pwcyv4jGVEqr"
      },
      "execution_count": null,
      "outputs": []
    }
  ]
}